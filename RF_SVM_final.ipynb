{
 "cells": [
  {
   "cell_type": "code",
   "execution_count": 3,
   "id": "5b6b9fa4",
   "metadata": {},
   "outputs": [],
   "source": [
    "import numpy as np\n",
    "import pandas as pd\n",
    "import matplotlib.pyplot as plt\n"
   ]
  },
  {
   "cell_type": "code",
   "execution_count": 4,
   "id": "7aa11b24",
   "metadata": {},
   "outputs": [],
   "source": [
    "df=pd.read_csv(\"train_set.csv\")"
   ]
  },
  {
   "cell_type": "code",
   "execution_count": 5,
   "id": "5bb74696",
   "metadata": {},
   "outputs": [
    {
     "data": {
      "text/html": [
       "<div>\n",
       "<style scoped>\n",
       "    .dataframe tbody tr th:only-of-type {\n",
       "        vertical-align: middle;\n",
       "    }\n",
       "\n",
       "    .dataframe tbody tr th {\n",
       "        vertical-align: top;\n",
       "    }\n",
       "\n",
       "    .dataframe thead th {\n",
       "        text-align: right;\n",
       "    }\n",
       "</style>\n",
       "<table border=\"1\" class=\"dataframe\">\n",
       "  <thead>\n",
       "    <tr style=\"text-align: right;\">\n",
       "      <th></th>\n",
       "      <th>Date</th>\n",
       "      <th>Day</th>\n",
       "      <th>CodedDay</th>\n",
       "      <th>Zone</th>\n",
       "      <th>Weather</th>\n",
       "      <th>Temperature</th>\n",
       "      <th>Traffic</th>\n",
       "    </tr>\n",
       "  </thead>\n",
       "  <tbody>\n",
       "    <tr>\n",
       "      <th>0</th>\n",
       "      <td>1-01-2017</td>\n",
       "      <td>Sunday</td>\n",
       "      <td>7</td>\n",
       "      <td>1</td>\n",
       "      <td>21</td>\n",
       "      <td>17</td>\n",
       "      <td>1</td>\n",
       "    </tr>\n",
       "    <tr>\n",
       "      <th>1</th>\n",
       "      <td>1-01-2017</td>\n",
       "      <td>Sunday</td>\n",
       "      <td>7</td>\n",
       "      <td>2</td>\n",
       "      <td>12</td>\n",
       "      <td>34</td>\n",
       "      <td>2</td>\n",
       "    </tr>\n",
       "    <tr>\n",
       "      <th>2</th>\n",
       "      <td>1-01-2017</td>\n",
       "      <td>Sunday</td>\n",
       "      <td>7</td>\n",
       "      <td>3</td>\n",
       "      <td>25</td>\n",
       "      <td>24</td>\n",
       "      <td>2</td>\n",
       "    </tr>\n",
       "    <tr>\n",
       "      <th>3</th>\n",
       "      <td>1-01-2017</td>\n",
       "      <td>Sunday</td>\n",
       "      <td>7</td>\n",
       "      <td>4</td>\n",
       "      <td>46</td>\n",
       "      <td>41</td>\n",
       "      <td>4</td>\n",
       "    </tr>\n",
       "    <tr>\n",
       "      <th>4</th>\n",
       "      <td>1-01-2017</td>\n",
       "      <td>Sunday</td>\n",
       "      <td>7</td>\n",
       "      <td>5</td>\n",
       "      <td>33</td>\n",
       "      <td>19</td>\n",
       "      <td>3</td>\n",
       "    </tr>\n",
       "  </tbody>\n",
       "</table>\n",
       "</div>"
      ],
      "text/plain": [
       "        Date     Day  CodedDay  Zone  Weather  Temperature  Traffic\n",
       "0  1-01-2017  Sunday         7     1       21           17        1\n",
       "1  1-01-2017  Sunday         7     2       12           34        2\n",
       "2  1-01-2017  Sunday         7     3       25           24        2\n",
       "3  1-01-2017  Sunday         7     4       46           41        4\n",
       "4  1-01-2017  Sunday         7     5       33           19        3"
      ]
     },
     "execution_count": 5,
     "metadata": {},
     "output_type": "execute_result"
    }
   ],
   "source": [
    "df.head()"
   ]
  },
  {
   "cell_type": "code",
   "execution_count": 6,
   "id": "e29156ed",
   "metadata": {},
   "outputs": [
    {
     "data": {
      "text/html": [
       "<div>\n",
       "<style scoped>\n",
       "    .dataframe tbody tr th:only-of-type {\n",
       "        vertical-align: middle;\n",
       "    }\n",
       "\n",
       "    .dataframe tbody tr th {\n",
       "        vertical-align: top;\n",
       "    }\n",
       "\n",
       "    .dataframe thead th {\n",
       "        text-align: right;\n",
       "    }\n",
       "</style>\n",
       "<table border=\"1\" class=\"dataframe\">\n",
       "  <thead>\n",
       "    <tr style=\"text-align: right;\">\n",
       "      <th></th>\n",
       "      <th>Date</th>\n",
       "      <th>Day</th>\n",
       "      <th>CodedDay</th>\n",
       "      <th>Zone</th>\n",
       "      <th>Weather</th>\n",
       "      <th>Temperature</th>\n",
       "      <th>Traffic</th>\n",
       "    </tr>\n",
       "  </thead>\n",
       "  <tbody>\n",
       "    <tr>\n",
       "      <th>52411</th>\n",
       "      <td>31-12-2017</td>\n",
       "      <td>Saturday</td>\n",
       "      <td>6</td>\n",
       "      <td>140</td>\n",
       "      <td>15</td>\n",
       "      <td>35</td>\n",
       "      <td>2</td>\n",
       "    </tr>\n",
       "    <tr>\n",
       "      <th>52412</th>\n",
       "      <td>31-12-2017</td>\n",
       "      <td>Saturday</td>\n",
       "      <td>6</td>\n",
       "      <td>141</td>\n",
       "      <td>27</td>\n",
       "      <td>11</td>\n",
       "      <td>4</td>\n",
       "    </tr>\n",
       "    <tr>\n",
       "      <th>52413</th>\n",
       "      <td>31-12-2017</td>\n",
       "      <td>Saturday</td>\n",
       "      <td>6</td>\n",
       "      <td>142</td>\n",
       "      <td>25</td>\n",
       "      <td>12</td>\n",
       "      <td>3</td>\n",
       "    </tr>\n",
       "    <tr>\n",
       "      <th>52414</th>\n",
       "      <td>31-12-2017</td>\n",
       "      <td>Saturday</td>\n",
       "      <td>6</td>\n",
       "      <td>143</td>\n",
       "      <td>24</td>\n",
       "      <td>28</td>\n",
       "      <td>1</td>\n",
       "    </tr>\n",
       "    <tr>\n",
       "      <th>52415</th>\n",
       "      <td>31-12-2017</td>\n",
       "      <td>Saturday</td>\n",
       "      <td>6</td>\n",
       "      <td>144</td>\n",
       "      <td>14</td>\n",
       "      <td>24</td>\n",
       "      <td>1</td>\n",
       "    </tr>\n",
       "  </tbody>\n",
       "</table>\n",
       "</div>"
      ],
      "text/plain": [
       "             Date       Day  CodedDay  Zone  Weather  Temperature  Traffic\n",
       "52411  31-12-2017  Saturday         6   140       15           35        2\n",
       "52412  31-12-2017  Saturday         6   141       27           11        4\n",
       "52413  31-12-2017  Saturday         6   142       25           12        3\n",
       "52414  31-12-2017  Saturday         6   143       24           28        1\n",
       "52415  31-12-2017  Saturday         6   144       14           24        1"
      ]
     },
     "execution_count": 6,
     "metadata": {},
     "output_type": "execute_result"
    }
   ],
   "source": [
    "df.tail()"
   ]
  },
  {
   "cell_type": "code",
   "execution_count": 7,
   "id": "0b0ac6e2",
   "metadata": {},
   "outputs": [
    {
     "name": "stdout",
     "output_type": "stream",
     "text": [
      "<class 'pandas.core.frame.DataFrame'>\n",
      "RangeIndex: 52416 entries, 0 to 52415\n",
      "Data columns (total 7 columns):\n",
      " #   Column       Non-Null Count  Dtype \n",
      "---  ------       --------------  ----- \n",
      " 0   Date         52416 non-null  object\n",
      " 1   Day          52416 non-null  object\n",
      " 2   CodedDay     52416 non-null  int64 \n",
      " 3   Zone         52416 non-null  int64 \n",
      " 4   Weather      52416 non-null  int64 \n",
      " 5   Temperature  52416 non-null  int64 \n",
      " 6   Traffic      52416 non-null  int64 \n",
      "dtypes: int64(5), object(2)\n",
      "memory usage: 2.8+ MB\n"
     ]
    }
   ],
   "source": [
    "df.info()"
   ]
  },
  {
   "cell_type": "code",
   "execution_count": 8,
   "id": "87dd409e",
   "metadata": {},
   "outputs": [],
   "source": [
    "from sklearn.preprocessing import LabelEncoder\n"
   ]
  },
  {
   "cell_type": "code",
   "execution_count": 9,
   "id": "673fe300",
   "metadata": {},
   "outputs": [],
   "source": [
    "le=LabelEncoder()"
   ]
  },
  {
   "cell_type": "code",
   "execution_count": 10,
   "id": "b2e137c2",
   "metadata": {},
   "outputs": [
    {
     "data": {
      "text/html": [
       "<div>\n",
       "<style scoped>\n",
       "    .dataframe tbody tr th:only-of-type {\n",
       "        vertical-align: middle;\n",
       "    }\n",
       "\n",
       "    .dataframe tbody tr th {\n",
       "        vertical-align: top;\n",
       "    }\n",
       "\n",
       "    .dataframe thead th {\n",
       "        text-align: right;\n",
       "    }\n",
       "</style>\n",
       "<table border=\"1\" class=\"dataframe\">\n",
       "  <thead>\n",
       "    <tr style=\"text-align: right;\">\n",
       "      <th></th>\n",
       "      <th>Date</th>\n",
       "      <th>Day</th>\n",
       "      <th>CodedDay</th>\n",
       "      <th>Zone</th>\n",
       "      <th>Weather</th>\n",
       "      <th>Temperature</th>\n",
       "      <th>Traffic</th>\n",
       "    </tr>\n",
       "  </thead>\n",
       "  <tbody>\n",
       "    <tr>\n",
       "      <th>0</th>\n",
       "      <td>0</td>\n",
       "      <td>Sunday</td>\n",
       "      <td>7</td>\n",
       "      <td>1</td>\n",
       "      <td>21</td>\n",
       "      <td>17</td>\n",
       "      <td>1</td>\n",
       "    </tr>\n",
       "    <tr>\n",
       "      <th>1</th>\n",
       "      <td>0</td>\n",
       "      <td>Sunday</td>\n",
       "      <td>7</td>\n",
       "      <td>2</td>\n",
       "      <td>12</td>\n",
       "      <td>34</td>\n",
       "      <td>2</td>\n",
       "    </tr>\n",
       "    <tr>\n",
       "      <th>2</th>\n",
       "      <td>0</td>\n",
       "      <td>Sunday</td>\n",
       "      <td>7</td>\n",
       "      <td>3</td>\n",
       "      <td>25</td>\n",
       "      <td>24</td>\n",
       "      <td>2</td>\n",
       "    </tr>\n",
       "    <tr>\n",
       "      <th>3</th>\n",
       "      <td>0</td>\n",
       "      <td>Sunday</td>\n",
       "      <td>7</td>\n",
       "      <td>4</td>\n",
       "      <td>46</td>\n",
       "      <td>41</td>\n",
       "      <td>4</td>\n",
       "    </tr>\n",
       "    <tr>\n",
       "      <th>4</th>\n",
       "      <td>0</td>\n",
       "      <td>Sunday</td>\n",
       "      <td>7</td>\n",
       "      <td>5</td>\n",
       "      <td>33</td>\n",
       "      <td>19</td>\n",
       "      <td>3</td>\n",
       "    </tr>\n",
       "  </tbody>\n",
       "</table>\n",
       "</div>"
      ],
      "text/plain": [
       "   Date     Day  CodedDay  Zone  Weather  Temperature  Traffic\n",
       "0     0  Sunday         7     1       21           17        1\n",
       "1     0  Sunday         7     2       12           34        2\n",
       "2     0  Sunday         7     3       25           24        2\n",
       "3     0  Sunday         7     4       46           41        4\n",
       "4     0  Sunday         7     5       33           19        3"
      ]
     },
     "execution_count": 10,
     "metadata": {},
     "output_type": "execute_result"
    }
   ],
   "source": [
    "df['Date']=le.fit_transform(df['Date'])\n",
    "df.head()"
   ]
  },
  {
   "cell_type": "code",
   "execution_count": 11,
   "id": "a2796f91",
   "metadata": {},
   "outputs": [
    {
     "data": {
      "text/plain": [
       "array([  0, 132, 263, 292, 304, 316, 328, 340, 352,  12,  24,  36,  48,\n",
       "        60,  72,  84,  96, 108, 120, 144, 156, 168, 180, 192, 204, 216,\n",
       "       228, 240, 252, 275,   1, 133, 264, 293, 305, 317, 329, 341, 353,\n",
       "        13,  25,  37,  49,  61,  73,  85,  97, 109, 121, 145, 157, 169,\n",
       "       181, 193, 205, 217, 229, 241,   2, 134, 265, 294, 306, 318, 330,\n",
       "       342, 354,  14,  26,  38,  50,  62,  74,  86,  98, 110, 122, 146,\n",
       "       158, 170, 182, 194, 206, 218, 230, 242, 253, 276, 286,   3, 135,\n",
       "       266, 295, 307, 319, 331, 343, 355,  15,  27,  39,  51,  63,  75,\n",
       "        87,  99, 111, 123, 147, 159, 171, 183, 195, 207, 219, 231, 243,\n",
       "       254, 277,   4, 136, 267, 296, 308, 320, 332, 344, 356,  16,  28,\n",
       "        40,  52,  64,  76,  88, 100, 112, 124, 148, 160, 172, 184, 196,\n",
       "       208, 220, 232, 244, 255, 278, 287,   5, 137, 268, 297, 309, 321,\n",
       "       333, 345, 357,  17,  29,  41,  53,  65,  77,  89, 101, 113, 125,\n",
       "       149, 161, 173, 185, 197, 209, 221, 233, 245, 256, 279,   6, 138,\n",
       "       269, 298, 310, 322, 334, 346, 358,  18,  30,  42,  54,  66,  78,\n",
       "        90, 102, 114, 126, 150, 162, 174, 186, 198, 210, 222, 234, 246,\n",
       "       257, 280, 288,   7, 139, 270, 299, 311, 323, 335, 347, 359,  19,\n",
       "        31,  43,  55,  67,  79,  91, 103, 115, 127, 151, 163, 175, 187,\n",
       "       199, 211, 223, 235, 247, 258, 281, 289,   8, 140, 271, 300, 312,\n",
       "       324, 336, 348, 360,  20,  32,  44,  56,  68,  80,  92, 104, 116,\n",
       "       128, 152, 164, 176, 188, 200, 212, 224, 236, 248, 259, 282,   9,\n",
       "       141, 272, 301, 313, 325, 337, 349, 361,  21,  33,  45,  57,  69,\n",
       "        81,  93, 105, 117, 129, 153, 165, 177, 189, 201, 213, 225, 237,\n",
       "       249, 260, 283, 290,  10, 142, 273, 302, 314, 326, 338, 350, 362,\n",
       "        22,  34,  46,  58,  70,  82,  94, 106, 118, 130, 154, 166, 178,\n",
       "       190, 202, 214, 226, 238, 250, 261, 284,  11, 143, 274, 303, 315,\n",
       "       327, 339, 351, 363,  23,  35,  47,  59,  71,  83,  95, 107, 119,\n",
       "       131, 155, 167, 179, 191, 203, 215, 227, 239, 251, 262, 285, 291])"
      ]
     },
     "execution_count": 11,
     "metadata": {},
     "output_type": "execute_result"
    }
   ],
   "source": [
    "df['Date'].unique()"
   ]
  },
  {
   "cell_type": "code",
   "execution_count": 12,
   "id": "08368190",
   "metadata": {},
   "outputs": [
    {
     "data": {
      "text/html": [
       "<div>\n",
       "<style scoped>\n",
       "    .dataframe tbody tr th:only-of-type {\n",
       "        vertical-align: middle;\n",
       "    }\n",
       "\n",
       "    .dataframe tbody tr th {\n",
       "        vertical-align: top;\n",
       "    }\n",
       "\n",
       "    .dataframe thead th {\n",
       "        text-align: right;\n",
       "    }\n",
       "</style>\n",
       "<table border=\"1\" class=\"dataframe\">\n",
       "  <thead>\n",
       "    <tr style=\"text-align: right;\">\n",
       "      <th></th>\n",
       "      <th>Date</th>\n",
       "      <th>Day</th>\n",
       "      <th>CodedDay</th>\n",
       "      <th>Zone</th>\n",
       "      <th>Weather</th>\n",
       "      <th>Temperature</th>\n",
       "      <th>Traffic</th>\n",
       "    </tr>\n",
       "  </thead>\n",
       "  <tbody>\n",
       "    <tr>\n",
       "      <th>52411</th>\n",
       "      <td>291</td>\n",
       "      <td>Saturday</td>\n",
       "      <td>6</td>\n",
       "      <td>140</td>\n",
       "      <td>15</td>\n",
       "      <td>35</td>\n",
       "      <td>2</td>\n",
       "    </tr>\n",
       "    <tr>\n",
       "      <th>52412</th>\n",
       "      <td>291</td>\n",
       "      <td>Saturday</td>\n",
       "      <td>6</td>\n",
       "      <td>141</td>\n",
       "      <td>27</td>\n",
       "      <td>11</td>\n",
       "      <td>4</td>\n",
       "    </tr>\n",
       "    <tr>\n",
       "      <th>52413</th>\n",
       "      <td>291</td>\n",
       "      <td>Saturday</td>\n",
       "      <td>6</td>\n",
       "      <td>142</td>\n",
       "      <td>25</td>\n",
       "      <td>12</td>\n",
       "      <td>3</td>\n",
       "    </tr>\n",
       "    <tr>\n",
       "      <th>52414</th>\n",
       "      <td>291</td>\n",
       "      <td>Saturday</td>\n",
       "      <td>6</td>\n",
       "      <td>143</td>\n",
       "      <td>24</td>\n",
       "      <td>28</td>\n",
       "      <td>1</td>\n",
       "    </tr>\n",
       "    <tr>\n",
       "      <th>52415</th>\n",
       "      <td>291</td>\n",
       "      <td>Saturday</td>\n",
       "      <td>6</td>\n",
       "      <td>144</td>\n",
       "      <td>14</td>\n",
       "      <td>24</td>\n",
       "      <td>1</td>\n",
       "    </tr>\n",
       "  </tbody>\n",
       "</table>\n",
       "</div>"
      ],
      "text/plain": [
       "       Date       Day  CodedDay  Zone  Weather  Temperature  Traffic\n",
       "52411   291  Saturday         6   140       15           35        2\n",
       "52412   291  Saturday         6   141       27           11        4\n",
       "52413   291  Saturday         6   142       25           12        3\n",
       "52414   291  Saturday         6   143       24           28        1\n",
       "52415   291  Saturday         6   144       14           24        1"
      ]
     },
     "execution_count": 12,
     "metadata": {},
     "output_type": "execute_result"
    }
   ],
   "source": [
    "df.tail()"
   ]
  },
  {
   "cell_type": "code",
   "execution_count": 13,
   "id": "a0f09cb4",
   "metadata": {},
   "outputs": [
    {
     "name": "stdout",
     "output_type": "stream",
     "text": [
      "<class 'pandas.core.frame.DataFrame'>\n",
      "RangeIndex: 52416 entries, 0 to 52415\n",
      "Data columns (total 7 columns):\n",
      " #   Column       Non-Null Count  Dtype \n",
      "---  ------       --------------  ----- \n",
      " 0   Date         52416 non-null  int32 \n",
      " 1   Day          52416 non-null  object\n",
      " 2   CodedDay     52416 non-null  int64 \n",
      " 3   Zone         52416 non-null  int64 \n",
      " 4   Weather      52416 non-null  int64 \n",
      " 5   Temperature  52416 non-null  int64 \n",
      " 6   Traffic      52416 non-null  int64 \n",
      "dtypes: int32(1), int64(5), object(1)\n",
      "memory usage: 2.6+ MB\n"
     ]
    }
   ],
   "source": [
    "df.info()"
   ]
  },
  {
   "cell_type": "code",
   "execution_count": 14,
   "id": "bed79fd7",
   "metadata": {},
   "outputs": [],
   "source": [
    "x=df.iloc[:,2:6].values"
   ]
  },
  {
   "cell_type": "code",
   "execution_count": 15,
   "id": "c41d9bed",
   "metadata": {},
   "outputs": [],
   "source": [
    "y=df.iloc[:,6:7].values"
   ]
  },
  {
   "cell_type": "code",
   "execution_count": 16,
   "id": "78b12584",
   "metadata": {},
   "outputs": [
    {
     "data": {
      "text/plain": [
       "array([[  7,   1,  21,  17],\n",
       "       [  7,   2,  12,  34],\n",
       "       [  7,   3,  25,  24],\n",
       "       ...,\n",
       "       [  6, 142,  25,  12],\n",
       "       [  6, 143,  24,  28],\n",
       "       [  6, 144,  14,  24]], dtype=int64)"
      ]
     },
     "execution_count": 16,
     "metadata": {},
     "output_type": "execute_result"
    }
   ],
   "source": [
    "x"
   ]
  },
  {
   "cell_type": "code",
   "execution_count": 17,
   "id": "49d9cf0a",
   "metadata": {},
   "outputs": [
    {
     "data": {
      "text/plain": [
       "(52416, 4)"
      ]
     },
     "execution_count": 17,
     "metadata": {},
     "output_type": "execute_result"
    }
   ],
   "source": [
    "x.shape"
   ]
  },
  {
   "cell_type": "code",
   "execution_count": 18,
   "id": "1072e793",
   "metadata": {},
   "outputs": [
    {
     "data": {
      "text/plain": [
       "array([[1],\n",
       "       [2],\n",
       "       [2],\n",
       "       ...,\n",
       "       [3],\n",
       "       [1],\n",
       "       [1]], dtype=int64)"
      ]
     },
     "execution_count": 18,
     "metadata": {},
     "output_type": "execute_result"
    }
   ],
   "source": [
    "y"
   ]
  },
  {
   "cell_type": "code",
   "execution_count": 19,
   "id": "1fe47397",
   "metadata": {},
   "outputs": [
    {
     "data": {
      "text/plain": [
       "(52416, 1)"
      ]
     },
     "execution_count": 19,
     "metadata": {},
     "output_type": "execute_result"
    }
   ],
   "source": [
    "y.shape"
   ]
  },
  {
   "cell_type": "code",
   "execution_count": 20,
   "id": "10ded48b",
   "metadata": {},
   "outputs": [],
   "source": [
    "from sklearn.model_selection import train_test_split"
   ]
  },
  {
   "cell_type": "code",
   "execution_count": 21,
   "id": "269e7c07",
   "metadata": {},
   "outputs": [],
   "source": [
    "X_train, X_test, y_train, y_test = train_test_split(x, y, test_size = 0.3, random_state = 100)"
   ]
  },
  {
   "cell_type": "code",
   "execution_count": 22,
   "id": "76e7a80c",
   "metadata": {},
   "outputs": [
    {
     "data": {
      "text/plain": [
       "(36691, 4)"
      ]
     },
     "execution_count": 22,
     "metadata": {},
     "output_type": "execute_result"
    }
   ],
   "source": [
    "X_train.shape"
   ]
  },
  {
   "cell_type": "code",
   "execution_count": 23,
   "id": "4318746b",
   "metadata": {},
   "outputs": [
    {
     "data": {
      "text/plain": [
       "(36691, 1)"
      ]
     },
     "execution_count": 23,
     "metadata": {},
     "output_type": "execute_result"
    }
   ],
   "source": [
    "y_train.shape"
   ]
  },
  {
   "cell_type": "code",
   "execution_count": 24,
   "id": "4afd6a39",
   "metadata": {},
   "outputs": [
    {
     "data": {
      "text/plain": [
       "(15725, 4)"
      ]
     },
     "execution_count": 24,
     "metadata": {},
     "output_type": "execute_result"
    }
   ],
   "source": [
    "X_test.shape"
   ]
  },
  {
   "cell_type": "code",
   "execution_count": 25,
   "id": "c0e25a07",
   "metadata": {},
   "outputs": [
    {
     "data": {
      "text/plain": [
       "(15725, 1)"
      ]
     },
     "execution_count": 25,
     "metadata": {},
     "output_type": "execute_result"
    }
   ],
   "source": [
    "y_test.shape"
   ]
  },
  {
   "cell_type": "code",
   "execution_count": 26,
   "id": "560a23f6",
   "metadata": {},
   "outputs": [],
   "source": [
    "#feature scaling\n"
   ]
  },
  {
   "cell_type": "code",
   "execution_count": 27,
   "id": "c50a5b38",
   "metadata": {},
   "outputs": [],
   "source": [
    "from sklearn.preprocessing import StandardScaler"
   ]
  },
  {
   "cell_type": "code",
   "execution_count": 28,
   "id": "cf6d102f",
   "metadata": {},
   "outputs": [],
   "source": [
    "sc=StandardScaler()"
   ]
  },
  {
   "cell_type": "code",
   "execution_count": 29,
   "id": "11575f76",
   "metadata": {},
   "outputs": [],
   "source": [
    "X_train=sc.fit_transform(X_train)"
   ]
  },
  {
   "cell_type": "code",
   "execution_count": 30,
   "id": "05b7cb36",
   "metadata": {},
   "outputs": [],
   "source": [
    "X_test=sc.fit_transform(X_test)"
   ]
  },
  {
   "cell_type": "code",
   "execution_count": 31,
   "id": "93ee0570",
   "metadata": {},
   "outputs": [
    {
     "data": {
      "text/plain": [
       "array([[-1.00646664, -1.47919159, -0.24484033, -0.9125374 ],\n",
       "       [-1.50642964, -0.32176381,  1.27681809, -0.9125374 ],\n",
       "       [ 0.49342238, -1.50330467,  1.27681809, -0.9125374 ],\n",
       "       ...,\n",
       "       [ 1.49334839, -1.16572157,  1.34927801,  1.67768533],\n",
       "       [ 1.49334839, -0.87636462,  1.63911771,  0.03721093],\n",
       "       [ 1.49334839,  0.78743782,  0.11745929,  1.15964078]])"
      ]
     },
     "execution_count": 31,
     "metadata": {},
     "output_type": "execute_result"
    }
   ],
   "source": [
    "X_train"
   ]
  },
  {
   "cell_type": "code",
   "execution_count": 32,
   "id": "ef496041",
   "metadata": {},
   "outputs": [
    {
     "data": {
      "text/plain": [
       "array([[-1.00646664, -1.47919159, -0.24484033, -0.9125374 ],\n",
       "       [-1.50642964, -0.32176381,  1.27681809, -0.9125374 ],\n",
       "       [ 0.49342238, -1.50330467,  1.27681809, -0.9125374 ],\n",
       "       ...,\n",
       "       [ 1.49334839, -1.16572157,  1.34927801,  1.67768533],\n",
       "       [ 1.49334839, -0.87636462,  1.63911771,  0.03721093],\n",
       "       [ 1.49334839,  0.78743782,  0.11745929,  1.15964078]])"
      ]
     },
     "execution_count": 32,
     "metadata": {},
     "output_type": "execute_result"
    }
   ],
   "source": [
    "X_train"
   ]
  },
  {
   "cell_type": "code",
   "execution_count": 33,
   "id": "53bf6440",
   "metadata": {},
   "outputs": [],
   "source": [
    "from sklearn.ensemble import RandomForestRegressor"
   ]
  },
  {
   "cell_type": "code",
   "execution_count": 34,
   "id": "78ec4109",
   "metadata": {},
   "outputs": [],
   "source": [
    "regressor=RandomForestRegressor(n_estimators=300,random_state=0)"
   ]
  },
  {
   "cell_type": "code",
   "execution_count": 35,
   "id": "e7416cfd",
   "metadata": {},
   "outputs": [
    {
     "name": "stderr",
     "output_type": "stream",
     "text": [
      "C:\\Users\\user\\AppData\\Local\\Temp\\ipykernel_24184\\3585153985.py:1: DataConversionWarning: A column-vector y was passed when a 1d array was expected. Please change the shape of y to (n_samples,), for example using ravel().\n",
      "  regressor.fit(X_train,y_train)\n"
     ]
    },
    {
     "data": {
      "text/plain": [
       "RandomForestRegressor(n_estimators=300, random_state=0)"
      ]
     },
     "execution_count": 35,
     "metadata": {},
     "output_type": "execute_result"
    }
   ],
   "source": [
    "regressor.fit(X_train,y_train)"
   ]
  },
  {
   "cell_type": "code",
   "execution_count": 36,
   "id": "f304ab80",
   "metadata": {},
   "outputs": [],
   "source": [
    "y_pred=regressor.predict(X_test)"
   ]
  },
  {
   "cell_type": "code",
   "execution_count": 43,
   "id": "3f9624fc",
   "metadata": {},
   "outputs": [
    {
     "data": {
      "text/plain": [
       "array([[ 0.51543711, -1.52816801,  0.88692805,  1.08510432],\n",
       "       [ 0.0152675 ,  0.4578921 , -0.48566041, -0.73148026],\n",
       "       [-1.48524133, -1.59995332,  1.53710154, -0.81798429],\n",
       "       ...,\n",
       "       [-0.48490211, -1.43245427,  0.30899607,  1.60412849],\n",
       "       [ 0.51543711,  0.79289019, -1.71376588,  0.13356002],\n",
       "       [ 0.0152675 ,  1.67824229,  0.81468655,  0.47957613]])"
      ]
     },
     "execution_count": 43,
     "metadata": {},
     "output_type": "execute_result"
    }
   ],
   "source": [
    "X_test"
   ]
  },
  {
   "cell_type": "code",
   "execution_count": 37,
   "id": "5cb76b32",
   "metadata": {},
   "outputs": [
    {
     "data": {
      "text/plain": [
       "array([2.5475    , 2.06583333, 2.61333333, ..., 2.36333333, 3.24333333,\n",
       "       2.99666667])"
      ]
     },
     "execution_count": 37,
     "metadata": {},
     "output_type": "execute_result"
    }
   ],
   "source": [
    "y_pred"
   ]
  },
  {
   "cell_type": "code",
   "execution_count": 38,
   "id": "2742c8df",
   "metadata": {},
   "outputs": [],
   "source": [
    "if(y_pred.all()<2.5):\n",
    "    y_pred=np.round(y_pred-0.5)\n",
    "else:\n",
    "    y_pred=np.round(y_pred+0.5)"
   ]
  },
  {
   "cell_type": "code",
   "execution_count": 39,
   "id": "4b0424df",
   "metadata": {},
   "outputs": [
    {
     "data": {
      "text/plain": [
       "array([2., 2., 2., ..., 2., 3., 2.])"
      ]
     },
     "execution_count": 39,
     "metadata": {},
     "output_type": "execute_result"
    }
   ],
   "source": [
    "y_pred"
   ]
  },
  {
   "cell_type": "code",
   "execution_count": 40,
   "id": "6dc7a9ab",
   "metadata": {},
   "outputs": [],
   "source": [
    "df_new=(y_pred-y_test)/y_test\n",
    "df_new=round(df_new.mean()*100,2)"
   ]
  },
  {
   "cell_type": "code",
   "execution_count": 41,
   "id": "ef49c6e7",
   "metadata": {},
   "outputs": [
    {
     "data": {
      "text/plain": [
       "14.51"
      ]
     },
     "execution_count": 41,
     "metadata": {},
     "output_type": "execute_result"
    }
   ],
   "source": [
    "df_new #Error"
   ]
  },
  {
   "cell_type": "code",
   "execution_count": 42,
   "id": "87f60a17",
   "metadata": {},
   "outputs": [
    {
     "name": "stdout",
     "output_type": "stream",
     "text": [
      "Accuracy: 85.49 %\n"
     ]
    }
   ],
   "source": [
    "a=100-df_new\n",
    "print(\"Accuracy:\",a,\"%\")"
   ]
  },
  {
   "cell_type": "code",
   "execution_count": null,
   "id": "af2c6556",
   "metadata": {},
   "outputs": [],
   "source": []
  },
  {
   "cell_type": "code",
   "execution_count": 61,
   "id": "6d735049",
   "metadata": {},
   "outputs": [],
   "source": [
    "a=[[1,4,14,38]]\n",
    "test=sc.fit_transform(a)\n",
    "y_new_test=regressor.predict(test)"
   ]
  },
  {
   "cell_type": "code",
   "execution_count": 62,
   "id": "4d65c59c",
   "metadata": {},
   "outputs": [
    {
     "name": "stdout",
     "output_type": "stream",
     "text": [
      "[3.25166667]\n",
      "[4.]\n"
     ]
    }
   ],
   "source": [
    "print(y_new_test)\n",
    "if(y_new_test <2.5):\n",
    "    y_new_test=np.round(y_new_test-0.5)\n",
    "else:\n",
    "    y_new_test=np.round(y_new_test+0.5)\n",
    "print(y_new_test)"
   ]
  },
  {
   "cell_type": "code",
   "execution_count": 43,
   "id": "3bd78e85",
   "metadata": {},
   "outputs": [],
   "source": [
    "#SVM"
   ]
  },
  {
   "cell_type": "code",
   "execution_count": 63,
   "id": "44111c79",
   "metadata": {},
   "outputs": [],
   "source": [
    "from sklearn.svm import SVR \n",
    "regressor_svm=SVR(kernel='rbf')"
   ]
  },
  {
   "cell_type": "code",
   "execution_count": 64,
   "id": "699c00ff",
   "metadata": {},
   "outputs": [
    {
     "name": "stderr",
     "output_type": "stream",
     "text": [
      "C:\\Users\\user\\anaconda3\\lib\\site-packages\\sklearn\\utils\\validation.py:993: DataConversionWarning: A column-vector y was passed when a 1d array was expected. Please change the shape of y to (n_samples, ), for example using ravel().\n",
      "  y = column_or_1d(y, warn=True)\n"
     ]
    },
    {
     "data": {
      "text/plain": [
       "SVR()"
      ]
     },
     "execution_count": 64,
     "metadata": {},
     "output_type": "execute_result"
    }
   ],
   "source": [
    "regressor_svm.fit(X_train,y_train)"
   ]
  },
  {
   "cell_type": "code",
   "execution_count": 46,
   "id": "4a5a14ff",
   "metadata": {},
   "outputs": [],
   "source": [
    "y_pred_svm=regressor_svm.predict(X_test)\n"
   ]
  },
  {
   "cell_type": "code",
   "execution_count": 47,
   "id": "0c714741",
   "metadata": {},
   "outputs": [
    {
     "data": {
      "text/plain": [
       "array([2.92724728, 2.99823707, 3.05895424, ..., 2.98293563, 2.97403231,\n",
       "       3.12536316])"
      ]
     },
     "execution_count": 47,
     "metadata": {},
     "output_type": "execute_result"
    }
   ],
   "source": [
    "y_pred_svm"
   ]
  },
  {
   "cell_type": "code",
   "execution_count": 48,
   "id": "f203ad96",
   "metadata": {},
   "outputs": [],
   "source": [
    "if(y_pred_svm.all()<2.5):\n",
    "    y_pred_svm=np.round(y_pred_svm-0.5)\n",
    "else:\n",
    "    y_pre_svm=np.round(y_pred_svm+0.5)"
   ]
  },
  {
   "cell_type": "code",
   "execution_count": 49,
   "id": "cc9db9c0",
   "metadata": {},
   "outputs": [],
   "source": [
    "df_new=(y_pred_svm-y_test)/y_test\n",
    "df_new=round(df_new.mean()*100,2)"
   ]
  },
  {
   "cell_type": "code",
   "execution_count": 50,
   "id": "7ccf2ecd",
   "metadata": {},
   "outputs": [
    {
     "data": {
      "text/plain": [
       "10.03"
      ]
     },
     "execution_count": 50,
     "metadata": {},
     "output_type": "execute_result"
    }
   ],
   "source": [
    "df_new #Error"
   ]
  },
  {
   "cell_type": "code",
   "execution_count": 51,
   "id": "172f5d33",
   "metadata": {},
   "outputs": [
    {
     "name": "stdout",
     "output_type": "stream",
     "text": [
      "Accuracy: 89.97 %\n"
     ]
    }
   ],
   "source": [
    "a=100-df_new\n",
    "print(\"Accuracy:\",a,\"%\")"
   ]
  },
  {
   "cell_type": "code",
   "execution_count": 65,
   "id": "e11d1280",
   "metadata": {},
   "outputs": [],
   "source": [
    "a=[[1,4,14,38]]\n",
    "test=sc.fit_transform(a)\n",
    "y_new_test=regressor_svm.predict(test)"
   ]
  },
  {
   "cell_type": "code",
   "execution_count": 66,
   "id": "a10cde00",
   "metadata": {},
   "outputs": [
    {
     "name": "stdout",
     "output_type": "stream",
     "text": [
      "[3.09865658]\n",
      "[4.]\n"
     ]
    }
   ],
   "source": [
    "print(y_new_test)\n",
    "if(y_new_test <2.5):\n",
    "    y_new_test=np.round(y_new_test-0.5)\n",
    "else:\n",
    "    y_new_test=np.round(y_new_test+0.5)\n",
    "print(y_new_test)"
   ]
  },
  {
   "cell_type": "code",
   "execution_count": null,
   "id": "c4bde353",
   "metadata": {},
   "outputs": [],
   "source": []
  }
 ],
 "metadata": {
  "kernelspec": {
   "display_name": "Python 3 (ipykernel)",
   "language": "python",
   "name": "python3"
  },
  "language_info": {
   "codemirror_mode": {
    "name": "ipython",
    "version": 3
   },
   "file_extension": ".py",
   "mimetype": "text/x-python",
   "name": "python",
   "nbconvert_exporter": "python",
   "pygments_lexer": "ipython3",
   "version": "3.9.12"
  }
 },
 "nbformat": 4,
 "nbformat_minor": 5
}
